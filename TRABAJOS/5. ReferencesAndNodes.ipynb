{
 "cells": [
  {
   "cell_type": "markdown",
   "metadata": {},
   "source": [
    "# <a id='toc1_'></a>[Referencias, Nodos, y Listas Enlazadas](#toc0_)\n",
    "\n",
    "---\n",
    "\n",
    "\n",
    "**Table of Contents (ToC)**<a id='toc0_'></a>    \n",
    "- [Referencias, Nodos, y Listas Enlazadas](#toc1_)    \n",
    "  - [Objetivo](#toc1_1_)    \n",
    "  - [Introducción a Nodos y Referencias](#toc1_2_)    \n",
    "  - [Ejemplo básico de un nodo](#toc1_3_)    \n",
    "  - [Nodos en Listas Simples Enlazadas](#toc1_4_)    \n",
    "    - [Implementación en Java](#toc1_4_1_)    \n",
    "  - [Nodos en Listas Doblemente Enlazadas](#toc1_5_)    \n",
    "    - [Implementación en Java](#toc1_5_1_)    \n",
    "  - [Nodos en Grafos](#toc1_6_)    \n",
    "    - [Implementación básica de un grafo usando nodos](#toc1_6_1_)    \n",
    "  - [Enlazadas Circularmente](#toc1_7_)    \n",
    "  - [Tarea](#toc1_8_)    \n",
    "  - [Conclusiones](#toc1_9_)    \n",
    "  - [Referencias](#toc1_10_)    \n",
    "    - [Códigos](#toc1_10_1_)    \n",
    "    - [Libros](#toc1_10_2_)    \n",
    "\n",
    "<!-- vscode-jupyter-toc-config\n",
    "  numbering=false\n",
    "  anchor=true\n",
    "  flat=false\n",
    "  minLevel=1\n",
    "  maxLevel=6\n",
    "  /vscode-jupyter-toc-config -->\n",
    "<!-- THIS CELL WILL BE REPLACED ON TOC UPDATE. DO NOT WRITE YOUR TEXT IN THIS CELL -->\n",
    "\n",
    "---"
   ]
  },
  {
   "cell_type": "markdown",
   "metadata": {},
   "source": [
    "## <a id='toc1_1_'></a>[Objetivo](#toc0_)\n",
    "\n",
    "Comprender el concepto de nodos y referencias como bloques fundamentales en la creación de estructuras de datos, incluyendo listas enlazadas simples, listas doblemente enlazadas y grafos. Al finalizar, los estudiantes podrán implementar estas estructuras de datos en Java, utilizando nodos como componentes centrales.\n",
    "\n",
    "## <a id='toc1_2_'></a>[Introducción a Nodos y Referencias](#toc0_)\n",
    "\n",
    "Recuerden que estas estructuras se suelen colocar en una clase mayor de Java llamada `Collection`\n",
    "\n",
    "<div align=\"center\">\n",
    "  <img src=\"./images/Figure20.1.png\" width=80%>\n",
    "</div>\n",
    "\n",
    "En estructuras de datos, un **nodo** es una unidad que contiene información y una o más **referencias** a otros nodos. Los nodos son fundamentales para la construcción de estructuras como listas enlazadas, árboles y grafos.\n",
    "\n",
    "En Java, un nodo suele implementarse como una clase que contiene dos componentes básicos:\n",
    "- **Dato:** El valor o elemento almacenado en el nodo.\n",
    "- **Referencia:** Un puntero o enlace a otro nodo.\n",
    "\n",
    "<div align=\"center\">\n",
    "  <img src=\"./images/Figure2.15.png\" height=200px>\n",
    "</div>\n",
    "\n",
    "\n",
    "\n",
    "## <a id='toc1_3_'></a>[Ejemplo básico de un nodo](#toc0_)"
   ]
  },
  {
   "cell_type": "code",
   "execution_count": 1,
   "metadata": {
    "vscode": {
     "languageId": "java"
    }
   },
   "outputs": [],
   "source": [
    "public class Nodo {\n",
    "    int data; // Dato almacenado en el nodo\n",
    "    Nodo siguiente; // Referencia al siguiente nodo\n",
    "\n",
    "    public Nodo(int data) {\n",
    "        this.data = data;\n",
    "        this.siguiente = null; // Inicialmente, no tiene un nodo siguiente\n",
    "    }\n",
    "}"
   ]
  },
  {
   "cell_type": "code",
   "execution_count": 2,
   "metadata": {
    "vscode": {
     "languageId": "java"
    }
   },
   "outputs": [],
   "source": [
    "// probar nodo aquí"
   ]
  },
  {
   "cell_type": "markdown",
   "metadata": {},
   "source": [
    "## <a id='toc1_4_'></a>[Nodos en Listas Simples Enlazadas](#toc0_)\n",
    "\n",
    "Una **lista simple enlazada** es una estructura de datos lineal formada por nodos, donde cada nodo tiene un dato y una referencia al siguiente nodo de la lista.\n",
    "\n",
    "\n",
    "<div align=\"center\">\n",
    "  <img src=\"./images/Figure2.16.png\" width=80%>\n",
    "</div>\n",
    "\n",
    "<div align=\"center\">\n",
    "  <img src=\"./images/Figure24.7.png\" width=80%>\n",
    "</div>\n",
    "\n",
    "Hay una clase de java ya implementada llamada [LinkedList](https://github.com/openjdk/jdk/blob/master/src/java.base/share/classes/java/util/LinkedList.java).\n",
    "\n",
    "<div align=\"center\">\n",
    "  <img src=\"./images/Figure24.11.png\" width=60%>\n",
    "</div>\n",
    "\n",
    "### <a id='toc1_4_1_'></a>[Implementación en Java](#toc0_)"
   ]
  },
  {
   "cell_type": "code",
   "execution_count": 3,
   "metadata": {
    "vscode": {
     "languageId": "java"
    }
   },
   "outputs": [],
   "source": [
    "public class ListaSimpleEnlazada {\n",
    "  private Nodo cabeza; // Primer nodo de la lista\n",
    "\n",
    "  public ListaSimpleEnlazada() {\n",
    "      cabeza = null; // La lista comienza vacía\n",
    "  }\n",
    "\n",
    "  // Método para agregar un nodo al final de la lista\n",
    "  public void agregar(int data) {\n",
    "      Nodo nuevoNodo = new Nodo(data);\n",
    "      if (cabeza == null) {\n",
    "        cabeza = nuevoNodo; // Si la lista está vacía, el nuevo nodo es la cabeza\n",
    "      } \n",
    "      else {\n",
    "        Nodo temp = cabeza;\n",
    "        while (temp.siguiente != null) {\n",
    "            temp = temp.siguiente; // Avanza al último nodo\n",
    "        }\n",
    "        temp.siguiente = nuevoNodo; // Se enlaza el nuevo nodo al final\n",
    "      }\n",
    "  }\n",
    "\n",
    "  // Método para imprimir la lista\n",
    "  public void imprimir() {\n",
    "      Nodo temp = cabeza;\n",
    "      while (temp != null) {\n",
    "          System.out.print(temp.data + \" -> \");\n",
    "          temp = temp.siguiente;\n",
    "      }\n",
    "      System.out.println(\"null\");\n",
    "  }\n",
    "  \n",
    "  public static void main(String[] args) {\n",
    "      ListaSimpleEnlazada lista = new ListaSimpleEnlazada();\n",
    "      lista.agregar(10);\n",
    "      lista.agregar(20);\n",
    "      lista.agregar(30);\n",
    "      lista.imprimir(); // Imprime: 10 -> 20 -> 30 -> null\n",
    "  }\n",
    "}"
   ]
  },
  {
   "cell_type": "code",
   "execution_count": 4,
   "metadata": {
    "vscode": {
     "languageId": "java"
    }
   },
   "outputs": [],
   "source": [
    "// probar clase aquí"
   ]
  },
  {
   "cell_type": "markdown",
   "metadata": {},
   "source": [
    "## <a id='toc1_5_'></a>[Nodos en Listas Doblemente Enlazadas](#toc0_)\n",
    "\n",
    "Una **lista doblemente enlazada** es una estructura en la que cada nodo tiene dos referencias:\n",
    "- Una referencia al siguiente nodo.\n",
    "- Una referencia al nodo anterior.\n",
    "\n",
    "Esto permite recorrer la lista en ambas direcciones.\n",
    "\n",
    "<div align=\"center\">\n",
    "  <img src=\"./images/Figure2.19.png\" width=80%>\n",
    "</div>\n",
    "\n",
    "### <a id='toc1_5_1_'></a>[Implementación en Java](#toc0_)"
   ]
  },
  {
   "cell_type": "code",
   "execution_count": 5,
   "metadata": {
    "vscode": {
     "languageId": "java"
    }
   },
   "outputs": [],
   "source": [
    "class NodoDoble {\n",
    "  int data;\n",
    "  NodoDoble siguiente;\n",
    "  NodoDoble anterior;\n",
    "\n",
    "  public NodoDoble(int data) {\n",
    "      this.data = data;\n",
    "      this.siguiente = null;\n",
    "      this.anterior = null;\n",
    "  }\n",
    "}\n",
    "\n",
    "public class ListaDobleEnlazada {\n",
    "  private NodoDoble cabeza;\n",
    "\n",
    "  public ListaDobleEnlazada() {\n",
    "      cabeza = null;\n",
    "  }\n",
    "\n",
    "  // Método para agregar un nodo al final de la lista\n",
    "  public void agregar(int data) {\n",
    "      NodoDoble nuevoNodo = new NodoDoble(data);\n",
    "      if (cabeza == null) {\n",
    "          cabeza = nuevoNodo;\n",
    "      } else {\n",
    "          NodoDoble temp = cabeza;\n",
    "          while (temp.siguiente != null) {\n",
    "              temp = temp.siguiente;\n",
    "          }\n",
    "          temp.siguiente = nuevoNodo;\n",
    "          nuevoNodo.anterior = temp; // El nuevo nodo apunta al anterior\n",
    "      }\n",
    "  }\n",
    "\n",
    "  // Método para imprimir la lista de forma directa\n",
    "  public void imprimirDirecto() {\n",
    "      NodoDoble temp = cabeza;\n",
    "      while (temp != null) {\n",
    "          System.out.print(temp.data + \" <-> \");\n",
    "          temp = temp.siguiente;\n",
    "      }\n",
    "      System.out.println(\"null\");\n",
    "  }\n",
    "\n",
    "  // Método para imprimir la lista de forma inversa\n",
    "  public void imprimirInverso() {\n",
    "      if (cabeza == null) return;\n",
    "      NodoDoble temp = cabeza;\n",
    "      while (temp.siguiente != null) {\n",
    "          temp = temp.siguiente; // Avanza al último nodo\n",
    "      }\n",
    "      while (temp != null) {\n",
    "          System.out.print(temp.data + \" <-> \");\n",
    "          temp = temp.anterior; // Retrocede en la lista\n",
    "      }\n",
    "      System.out.println(\"null\");\n",
    "  }\n",
    "\n",
    "  public static void main(String[] args) {\n",
    "      ListaDobleEnlazada lista = new ListaDobleEnlazada();\n",
    "      lista.agregar(10);\n",
    "      lista.agregar(20);\n",
    "      lista.agregar(30);\n",
    "      lista.imprimirDirecto();  // Imprime: 10 <-> 20 <-> 30 <-> null\n",
    "      lista.imprimirInverso();  // Imprime: 30 <-> 20 <-> 10 <-> null\n",
    "  }\n",
    "}"
   ]
  },
  {
   "cell_type": "code",
   "execution_count": 6,
   "metadata": {
    "vscode": {
     "languageId": "java"
    }
   },
   "outputs": [],
   "source": [
    "// probar clases y métodos aquí"
   ]
  },
  {
   "cell_type": "markdown",
   "metadata": {},
   "source": [
    "## <a id='toc1_6_'></a>[Nodos en Grafos](#toc0_)\n",
    "\n",
    "Un **grafo** es una estructura de datos que consiste en nodos (llamados vértices) y enlaces entre ellos (aristas). Los grafos pueden ser dirigidos o no dirigidos, dependiendo de si las conexiones entre los nodos tienen una dirección.\n",
    "\n",
    "En un grafo:\n",
    "- Los **nodos** representan entidades.\n",
    "- Las **aristas** representan las relaciones entre estas entidades.\n",
    "\n",
    "### <a id='toc1_6_1_'></a>[Implementación básica de un grafo usando nodos](#toc0_)\n"
   ]
  },
  {
   "cell_type": "code",
   "execution_count": 7,
   "metadata": {
    "vscode": {
     "languageId": "java"
    }
   },
   "outputs": [],
   "source": [
    "import java.util.ArrayList;\n",
    "import java.util.List;\n",
    "\n",
    "class NodoGrafo {\n",
    "    int data;\n",
    "    List<NodoGrafo> vecinos; // Lista de nodos vecinos\n",
    "\n",
    "    public NodoGrafo(int data) {\n",
    "        this.data = data;\n",
    "        vecinos = new ArrayList<>();\n",
    "    }\n",
    "\n",
    "    // Método para agregar una arista (relación) entre este nodo y otro\n",
    "    public void agregarVecino(NodoGrafo vecino) {\n",
    "        vecinos.add(vecino);\n",
    "    }\n",
    "}\n",
    "\n",
    "public class Grafo {\n",
    "    private List<NodoGrafo> nodos;\n",
    "\n",
    "    public Grafo() {\n",
    "        nodos = new ArrayList<>();\n",
    "    }\n",
    "\n",
    "    // Método para agregar un nodo al grafo\n",
    "    public void agregarNodo(int data) {\n",
    "        NodoGrafo nuevoNodo = new NodoGrafo(data);\n",
    "        nodos.add(nuevoNodo);\n",
    "    }\n",
    "\n",
    "    // Método para conectar dos nodos\n",
    "    public void conectarNodos(NodoGrafo nodo1, NodoGrafo nodo2) {\n",
    "        nodo1.agregarVecino(nodo2);\n",
    "        nodo2.agregarVecino(nodo1); // Grafo no dirigido\n",
    "    }\n",
    "\n",
    "    public static void main(String[] args) {\n",
    "        Grafo grafo = new Grafo();\n",
    "        \n",
    "        NodoGrafo nodo1 = new NodoGrafo(1);\n",
    "        NodoGrafo nodo2 = new NodoGrafo(2);\n",
    "        NodoGrafo nodo3 = new NodoGrafo(3);\n",
    "\n",
    "        grafo.conectarNodos(nodo1, nodo2);\n",
    "        grafo.conectarNodos(nodo2, nodo3);\n",
    "\n",
    "        System.out.println(\"El nodo 1 está conectado con: \" + nodo1.vecinos.size() + \" nodo(s).\");\n",
    "        System.out.println(\"El nodo 2 está conectado con: \" + nodo2.vecinos.size() + \" nodo(s).\");\n",
    "    }\n",
    "}"
   ]
  },
  {
   "cell_type": "markdown",
   "metadata": {},
   "source": [
    "## <a id='toc1_7_'></a>[Enlazadas Circularmente](#toc0_)\n",
    "\n",
    "<div align=\"center\">\n",
    "  <img src=\"https://study.com/cimages/multimages/16/circularly_linked_lists.png\" width=40%>\n",
    "</div>\n",
    "\n",
    "<div align=\"center\">\n",
    "  <img src=\"./images/Figure24.18.png\" width=80%>\n",
    "</div>"
   ]
  },
  {
   "cell_type": "markdown",
   "metadata": {},
   "source": [
    "## <a id='toc1_8_'></a>[Tarea](#toc0_)\n",
    "\n",
    "Implementen los códigos de nodos, listas simples y doblemente enlazadas de las tres referencias y la clase de LinkedList de java. Este taller se hace de a cuatro personas, cada uno elije un libro diferente y la idea es comparar los códigos.\n",
    "\n",
    "La idea es que estos códigos son implementaciones más completas y robustas de lo que vimos en clase, clases con muchos métodos y una implementación optimizada.\n",
    "\n",
    "No olviden que deben implementar los códigos y probarlos creando objetos y ejecutando sus métodos. Además deben presentar un documento en formato markdown donde se hable de la comparación entre las implementaciones: ventajas, desventajas, métodos, diferencias, etc."
   ]
  },
  {
   "cell_type": "code",
   "execution_count": 8,
   "metadata": {
    "vscode": {
     "languageId": "java"
    }
   },
   "outputs": [],
   "source": [
    "// el código va aquí"
   ]
  },
  {
   "cell_type": "markdown",
   "metadata": {},
   "source": [
    "## <a id='toc1_9_'></a>[Conclusiones](#toc0_)\n",
    "\n",
    "Los nodos y las referencias son componentes fundamentales en la implementación de estructuras de datos como listas enlazadas, listas doblemente enlazadas y grafos. Al dominar estos conceptos, los estudiantes pueden implementar estructuras de datos más complejas y optimizadas, cruciales para la resolución eficiente de problemas en la programación. Las listas permiten manejar datos dinámicos, mientras que los grafos ofrecen una manera poderosa de modelar relaciones entre entidades.\n",
    "\n",
    "\n",
    "## <a id='toc1_10_'></a>[Referencias](#toc0_)\n",
    "\n",
    "### <a id='toc1_10_1_'></a>[Códigos](#toc0_)\n",
    "\n",
    "- [Introduction to Java Programming and Data Structures, Comprehensive Version, 12th Edition](https://media.pearsoncmg.com/ph/esm/ecs_liang_ijp_12/cw/content/source-code.php)\n",
    "- [Intro-to-Java-Programming](https://github.com/jsquared21/Intro-to-Java-Programming)\n",
    "\n",
    "\n",
    "### <a id='toc1_10_2_'></a>[Libros](#toc0_)\n",
    "\n",
    "- Y. Daniel Liang. *Introduction to Java Programming and Data Structures, Comprehensive Version*. Addison Wesley. Edición 12 (2019). Capítulo 24.4, página cmlviii-\n",
    "- Koffman, Elliot B.; Wolfgang, Paul A. T. *Data structures : abstraction and design using Java*. Wiley 2016. Capítulo 2.5, página 77.\n",
    "- Michael T. Goodrich, Roberto Tamassia, Michael H. Goldwasser. *Data Structures and Algorithms in Java*. Wiley 2014. Capítulo 3.2, página 122."
   ]
  }
 ],
 "metadata": {
  "kernelspec": {
   "display_name": "Java",
   "language": "java",
   "name": "java"
  },
  "language_info": {
   "codemirror_mode": "java",
   "file_extension": ".jshell",
   "mimetype": "text/x-java-source",
   "name": "Java",
   "pygments_lexer": "java",
   "version": "21.0.4+7-Ubuntu-1ubuntu224.04"
  }
 },
 "nbformat": 4,
 "nbformat_minor": 2
}
