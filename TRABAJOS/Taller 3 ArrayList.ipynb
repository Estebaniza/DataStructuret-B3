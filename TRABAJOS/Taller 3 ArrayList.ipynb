{
  "cells": [
    {
      "cell_type": "markdown",
      "metadata": {
        "id": "uP5GqcrIlVHD"
      },
      "source": [
        "<h1><center><b>Cadenas y Arreglos</b></center></h1>\n",
        "\n",
        "---"
      ]
    },
    {
      "cell_type": "markdown",
      "metadata": {
        "id": "yU4e7Ly2lVHX"
      },
      "source": [
        "**Table of contents**<a id='toc0_'></a>    \n",
        "- [Objetivo](#toc1_1_)    \n",
        "  - [Introducción](#toc1_2_)    \n",
        "  - [Cadenas (Strings)](#toc1_3_)    \n",
        "    - [Busquedas](#toc1_3_1_)    \n",
        "    - [Aplicaciones](#toc1_3_2_)    \n",
        "    - [Ejemplo](#toc1_3_3_)    \n",
        "  - [Arreglos (Arrays)](#toc1_4_)    \n",
        "      - [Arreglos Unidimensionales](#toc1_4_1_1_)    \n",
        "    - [Búsquedas](#toc1_4_2_)    \n",
        "    - [Aplicaiones](#toc1_4_3_)    \n",
        "    - [Ejemplo](#toc1_4_4_)    \n",
        "  - [Clases Predefinidas](#toc1_5_)    \n",
        "    - [Arrays](#toc1_5_1_)    \n",
        "    - [ArrayList](#toc1_5_2_)    \n",
        "  - [Conclusión](#toc1_6_)    \n",
        "  - [Ejercicio Práctico](#toc1_7_)    \n",
        "    - [Instrucciones](#toc1_7_1_)    \n",
        "  - [Referencias](#toc1_8_)    \n",
        "      - [Libros](#toc1_8_1_1_)    \n",
        "      - [Repositorios](#toc1_8_1_2_)    \n",
        "      - [Videos](#toc1_8_1_3_)    \n",
        "\n",
        "<!-- vscode-jupyter-toc-config\n",
        "\tnumbering=false\n",
        "\tanchor=true\n",
        "\tflat=false\n",
        "\tminLevel=1\n",
        "\tmaxLevel=6\n",
        "\t/vscode-jupyter-toc-config -->\n",
        "<!-- THIS CELL WILL BE REPLACED ON TOC UPDATE. DO NOT WRITE YOUR TEXT IN THIS CELL -->"
      ]
    },
    {
      "cell_type": "markdown",
      "metadata": {
        "id": "4Q_LChSAlVHb"
      },
      "source": [
        "---\n",
        "\n",
        "<a target=\"_blank\" href=\"https://colab.research.google.com/github/uETITC/DataStructure-2024-2/blob/main/Lessons/3.%20StringsAndArrays.ipynb\">\n",
        "  <img src=\"https://colab.research.google.com/assets/colab-badge.svg\" alt=\"Open In Colab\"/>\n",
        "</a>\n",
        "   \n",
        "## <a id='toc1_1_'></a>[Objetivo](#toc0_)\n",
        "\n",
        "Desarrollar en los estudiantes una comprensión profunda sobre el manejo de arreglos y cadenas en Java, tanto en una como en varias dimensiones. Los estudiantes podrán aplicar estos conceptos en la manipulación y organización eficiente de datos, así como en la implementación de algoritmos de búsqueda para resolver problemas específicos en el desarrollo de software.\n",
        "\n",
        "## <a id='toc1_2_'></a>[Introducción](#toc0_)\n",
        "\n",
        "Los arreglos y las cadenas son fundamentales en Java para organizar y manipular datos de manera eficiente. En esta clase, exploraremos cómo declarar, inicializar y manejar arreglos, tanto unidimensionales como multidimensionales, y cómo trabajar con cadenas, que son esenciales en el procesamiento de texto. También veremos aplicaciones prácticas y algoritmos de búsqueda en estas estructuras, combinando teoría y ejercicios prácticos para fortalecer la comprensión y la habilidad de resolver problemas en el desarrollo de software.\n",
        "\n",
        "Si trabajas desde [Google Colab](https://colab.research.google.com/) **debes** ejecutar la siguiente casilla. Recuerda que el tutorial de como configurar el entorno lo puedes encontrar en el primer tutorial: [1. Intruduction To Java](https://github.com/uETITC/ProgrammingII-2024-2/blob/main/Lessons/1.%20IntroductionToJava.md#instalando-el-kernel-de-java)."
      ]
    },
    {
      "cell_type": "code",
      "execution_count": 1,
      "metadata": {
        "vscode": {
          "languageId": "java"
        },
        "id": "UY4zNMJnlVHe",
        "outputId": "9ed4ec65-fdb8-4709-efb6-5c675579d4d8",
        "colab": {
          "base_uri": "https://localhost:8080/"
        }
      },
      "outputs": [
        {
          "output_type": "stream",
          "name": "stdout",
          "text": [
            "Installed java kernel into \"/usr/local/share/jupyter/kernels/java\"\n",
            "e2732061ad19c1afa4a33a58cb8f18a9-b6cff2bf09b6832344e576ea1e4731f0fb3df10c/install_ipc_proxy_kernel.py\n",
            "e2732061ad19c1afa4a33a58cb8f18a9-b6cff2bf09b6832344e576ea1e4731f0fb3df10c/ipc_proxy_kernel.py\n",
            "Moving java kernel from /usr/local/share/jupyter/kernels/java...\n",
            "Wrote modified kernel.json for java_tcp in /usr/local/share/jupyter/kernels/java_tcp/kernel.json\n",
            "Installing the proxy kernel in place of java in /usr/local/share/jupyter/kernels/java\n",
            "Installed proxy kernelspec: {\"argv\": [\"/usr/bin/python3\", \"/usr/local/share/jupyter/kernels/java/ipc_proxy_kernel.py\", \"{connection_file}\", \"--kernel=java_tcp\"], \"env\": {}, \"display_name\": \"Java\", \"language\": \"java\", \"interrupt_mode\": \"message\", \"metadata\": {}}\n",
            "Proxy kernel installed. Go to 'Runtime > Change runtime type' and select 'java'\n"
          ]
        },
        {
          "output_type": "stream",
          "name": "stderr",
          "text": [
            "/content/install.py:164: DeprecationWarning: replace is ignored. Installing a kernelspec always replaces an existing installation\n",
            "  install_dest = KernelSpecManager().install_kernel_spec(\n"
          ]
        }
      ],
      "source": [
        "%%sh\n",
        "# Install java kernel\n",
        "wget -q https://github.com/SpencerPark/IJava/releases/download/v1.3.0/ijava-1.3.0.zip\n",
        "unzip -q ijava-1.3.0.zip\n",
        "python install.py\n",
        "\n",
        "# Install proxy for the java kernel\n",
        "wget -qO- https://gist.github.com/SpencerPark/e2732061ad19c1afa4a33a58cb8f18a9/archive/b6cff2bf09b6832344e576ea1e4731f0fb3df10c.tar.gz | tar xvz --strip-components=1\n",
        "python install_ipc_proxy_kernel.py --kernel=java --implementation=ipc_proxy_kernel.py"
      ]
    },
    {
      "cell_type": "markdown",
      "metadata": {
        "id": "NsWTt9hjlVHm"
      },
      "source": [
        "## <a id='toc1_3_'></a>[Cadenas (Strings)](#toc0_)\n",
        "\n",
        "Las cadenas (`String`) son secuencias de caracteres que se tratan como objetos en Java. A diferencia de los arreglos, las cadenas son **inmutables**, lo que significa que no se pueden modificar una vez creadas.\n",
        "\n",
        "<div align=\"center\">\n",
        "  <img src=\"https://github.com/uETITC/DataStructure-2024-2/blob/main/Lessons/images/vector1.png?raw=1\" width=70%>\n",
        "</div>\n",
        "\n",
        "- **Creación de Cadenas**"
      ]
    },
    {
      "cell_type": "code",
      "execution_count": null,
      "metadata": {
        "vscode": {
          "languageId": "java"
        },
        "id": "_OujFu0llVHp",
        "outputId": "b6806e80-9694-44df-befc-0aa3bdb7b516",
        "colab": {
          "base_uri": "https://localhost:8080/"
        }
      },
      "outputs": [
        {
          "output_type": "stream",
          "name": "stdout",
          "text": [
            "Hello, World!\n",
            "The index 12 of the phrase 'Hello, World!' is '!'."
          ]
        },
        {
          "output_type": "execute_result",
          "data": {
            "text/plain": [
              "java.io.PrintStream@33a7aef6"
            ]
          },
          "metadata": {},
          "execution_count": 3
        }
      ],
      "source": [
        "// Declaración e inicialización de una cadena\n",
        "String saludo = \"Hello, World!\";\n",
        "  // Imprimir cadena completa\n",
        "System.out.println(saludo);\n",
        "\n",
        "// Acceso a caracteres individuales\n",
        "int index = 12;\n",
        "System.out.printf(\"The index %d of the phrase '%s' is '%c'.\",index, saludo, saludo.charAt(index)); // Imprime 'H'"
      ]
    },
    {
      "cell_type": "markdown",
      "metadata": {
        "id": "uDrRhK3ZlVHt"
      },
      "source": [
        "- **Cadenas como Arreglos**\n",
        "\n",
        "Una cadena puede ser vista como un arreglo de caracteres."
      ]
    },
    {
      "cell_type": "code",
      "execution_count": null,
      "metadata": {
        "vscode": {
          "languageId": "java"
        },
        "id": "cEd80RZHlVHw",
        "outputId": "068766cc-9b48-4b80-ab85-b185ad7b3f9e",
        "colab": {
          "base_uri": "https://localhost:8080/"
        }
      },
      "outputs": [
        {
          "output_type": "stream",
          "name": "stdout",
          "text": [
            "e\n",
            "e\n"
          ]
        }
      ],
      "source": [
        "char[] caracteres = saludo.toCharArray();\n",
        "System.out.println(caracteres[1]); // Imprime 'o'\n",
        "\n",
        "// Imprime la letra W\n",
        "System.out.println(caracteres[1]); // Imprime 'W'"
      ]
    },
    {
      "cell_type": "markdown",
      "metadata": {
        "id": "bfpvpPcalVH0"
      },
      "source": [
        "- **Ingresar Variables/Texto**"
      ]
    },
    {
      "cell_type": "code",
      "execution_count": null,
      "metadata": {
        "colab": {
          "base_uri": "https://localhost:8080/"
        },
        "id": "R1RbSCHcUwq6",
        "outputId": "06698665-214c-43b1-d6b0-ff922d1d0ab3",
        "vscode": {
          "languageId": "java"
        }
      },
      "outputs": [
        {
          "name": "stdout",
          "output_type": "stream",
          "text": [
            "Enter a name: \n",
            "You entered the name: asdasd\n",
            "The number you entered is:2\n"
          ]
        }
      ],
      "source": [
        "import java.util.Scanner;\n",
        "// Ingresar una sola variable\n",
        "Scanner input_name = new Scanner(System.in);\n",
        "System.out.println(\"Enter a name: \");\n",
        "String name = input_name.nextLine();\n",
        "System.out.println(\"You entered the name: \"+name);\n",
        "\n",
        "// Ingresando un entero\n",
        "int integer1 = input.nextInt();\n",
        "System.out.println(\"The number you entered is:\"+integer1 );"
      ]
    },
    {
      "cell_type": "code",
      "execution_count": null,
      "metadata": {
        "vscode": {
          "languageId": "java"
        },
        "id": "Ppk1zIdRlVH5",
        "outputId": "3f8bb89a-1bef-47db-ee5e-d9786561cde6"
      },
      "outputs": [
        {
          "name": "stdout",
          "output_type": "stream",
          "text": [
            "Enter a character: \n",
            "The character entered is a\n"
          ]
        }
      ],
      "source": [
        "// Ingresar un caracter\n",
        "Scanner input = new Scanner(System.in);\n",
        "System.out.print(\"Enter a character: \");\n",
        "String s = input.nextLine();\n",
        "char ch = s.charAt(0);\n",
        "System.out.println(\"\\nThe character entered is \" + ch);\n",
        "\n",
        "// Agrega un código que pida una string y un número y entregue\n",
        "// el carácter de la string en el indice del número"
      ]
    },
    {
      "cell_type": "markdown",
      "metadata": {
        "id": "pjQu7nRLlVH7"
      },
      "source": [
        "¿Se puede ingresar un float o double? **SI**\n",
        "\n",
        "¡Siempre se puede convertir (cast or casting) una variable de un tipo a otro!"
      ]
    },
    {
      "cell_type": "code",
      "execution_count": null,
      "metadata": {
        "vscode": {
          "languageId": "java"
        },
        "id": "udXk9U_XlVH9",
        "outputId": "75a73ffe-047a-4efe-ccf9-40c8f597b813"
      },
      "outputs": [
        {
          "name": "stdout",
          "output_type": "stream",
          "text": [
            "The number you entered in double is: 1.2323232\n",
            "The number you entered in float is: 1.2323232\n"
          ]
        }
      ],
      "source": [
        "// String to double\n",
        "String numero = input.nextLine();\n",
        "double double1 = Double.parseDouble(numero);\n",
        "System.out.println(\"The number you entered in double is: \"+double1);\n",
        "\n",
        "// String to float\n",
        "// String float1 = input.nextLine();\n",
        "float float1 = Float.parseFloat(numero);\n",
        "System.out.println(\"The number you entered in float is: \"+float1 );"
      ]
    },
    {
      "cell_type": "code",
      "execution_count": null,
      "metadata": {
        "vscode": {
          "languageId": "java"
        },
        "id": "WnKI_8hqlVH-",
        "outputId": "f5da8558-6876-4d4a-89d1-7e20b1d0840c"
      },
      "outputs": [
        {
          "name": "stdout",
          "output_type": "stream",
          "text": [
            "Enter three words separated by spaces: \n",
            "You entered 1 2 3 \n",
            "s1 is 1\n",
            "s2 is 2\n",
            "s3 is 3\n"
          ]
        }
      ],
      "source": [
        "// Ingresar varias variables al tiempo (palabras)\n",
        "Scanner input = new Scanner(System.in);\n",
        "System.out.print(\"Enter three words separated by spaces: \");\n",
        "String s1 = input.next();\n",
        "String s2 = input.next();\n",
        "String s3 = input.next();\n",
        "System.out.printf(\"%nYou entered %s %s %s %n\", s1, s2, s3);\n",
        "System.out.println(\"  s1 is \" + s1);\n",
        "System.out.println(\"  s2 is \" + s2);\n",
        "System.out.println(\"  s3 is \" + s3);"
      ]
    },
    {
      "cell_type": "markdown",
      "metadata": {
        "id": "7iBAkMh4lVIA"
      },
      "source": [
        "- **Operaciones Con Cadenas**"
      ]
    },
    {
      "cell_type": "code",
      "execution_count": null,
      "metadata": {
        "colab": {
          "base_uri": "https://localhost:8080/"
        },
        "id": "cnmrzTpXnipd",
        "outputId": "1102f1bf-c9e3-404c-a439-e662d27996fa",
        "vscode": {
          "languageId": "java"
        }
      },
      "outputs": [
        {
          "name": "stdout",
          "output_type": "stream",
          "text": [
            "The length of Welcome to Java is 15\n"
          ]
        }
      ],
      "source": [
        "// Longitud de una cadena\n",
        "String message = \"Welcome to Java\";\n",
        "System.out.println(\"The length of \" + message + \" is \"+ message.length());"
      ]
    },
    {
      "cell_type": "code",
      "execution_count": null,
      "metadata": {
        "vscode": {
          "languageId": "java"
        },
        "id": "axq-JS-9lVIC",
        "outputId": "8c9c2ec7-1df4-467e-e4ac-6f6a6bac2ec0"
      },
      "outputs": [
        {
          "name": "stdout",
          "output_type": "stream",
          "text": [
            "Welcome to Java!SebasData structures course.\n",
            "Welcome to Java!, Sebas. This is the Data structures course. \n",
            "\n"
          ]
        },
        {
          "data": {
            "text/plain": [
              "java.io.PrintStream@6eecce84"
            ]
          },
          "execution_count": 58,
          "metadata": {},
          "output_type": "execute_result"
        }
      ],
      "source": [
        "// Unión de cadenas usando el operador sumar (+)\n",
        "String message1 = \"Welcome to Java!\";\n",
        "String message2 = \"Data structures course.\";\n",
        "\n",
        "System.out.println(message1+name+message2);\n",
        "System.out.printf(\"%s, %s. This is the %s\", message1, name, message2);"
      ]
    },
    {
      "cell_type": "code",
      "execution_count": null,
      "metadata": {
        "vscode": {
          "languageId": "java"
        },
        "id": "A9NZNbS-lVIE",
        "outputId": "966a82ea-8441-4089-efc2-e311308c3bcb"
      },
      "outputs": [
        {
          "name": "stdout",
          "output_type": "stream",
          "text": [
            "Selected numbers 12\n",
            "Selected numbers 3\n",
            "Selected numbers 3.13\n",
            "Selected numbers 3.1231232\n"
          ]
        }
      ],
      "source": [
        "// Mezclando números y cadenas\n",
        "int i = 1, j=2;\n",
        "double z = 3.13;\n",
        "float w = 3.123123123F;\n",
        "System.out.println(\"Selected numbers \"+i+j);\n",
        "System.out.println(\"Selected numbers \"+(i+j));\n",
        "System.out.println(\"Selected numbers \"+z);\n",
        "System.out.println(\"Selected numbers \"+w);"
      ]
    },
    {
      "cell_type": "code",
      "execution_count": null,
      "metadata": {
        "vscode": {
          "languageId": "java"
        },
        "id": "zaPq3MIslVIG",
        "outputId": "735b2441-a2e0-4cd2-a5eb-9393d5fa27e8"
      },
      "outputs": [
        {
          "name": "stdout",
          "output_type": "stream",
          "text": [
            "Welcome to Java!SebasData structures course.\n",
            "Welcome to Java!SebasData structures course. System Engineering, 2024.\n"
          ]
        }
      ],
      "source": [
        "// Unión de cadenas usando el método concatenar (concat)\n",
        "String total_text = message1.concat(name).concat(message2);\n",
        "System.out.println(total_text);\n",
        "\n",
        "// Unión de cadenas usando el operador +=\n",
        "total_text += \" System Engineering, 2024.\";\n",
        "System.out.println(total_text);"
      ]
    },
    {
      "cell_type": "code",
      "execution_count": null,
      "metadata": {
        "vscode": {
          "languageId": "java"
        },
        "id": "5Hyn1j7ylVII"
      },
      "outputs": [],
      "source": [
        "// Operadores especiales\n",
        "System.out.println(\"The character \\\\ is called backslash.\");\n",
        "System.out.println(\"The character \\' is called single quote.\");\n",
        "System.out.println(\"The character \\\" is called double quote.\\n\");\n",
        "\n",
        "System.out.println(\"Selected \\t numbers\");  // /t: Tab\n",
        "System.out.println(\"Selected \\n numbers\");  // /n: New Line\n",
        "System.out.println(\"Sel\\bected numbers\");   // /b: Backspace\n",
        "System.out.println(\"Sel\\rected numbers\");   // /r: Carriage Return"
      ]
    },
    {
      "cell_type": "markdown",
      "metadata": {
        "id": "2AYBlOkxlVIJ"
      },
      "source": [
        "Las clases suelen ya tener definidos algunos métodos, para ello revisa las funciones de la clase [String.java](https://github.com/openjdk/jdk/blob/master/src/java.base/share/classes/java/lang/String.java#L4757) o consulta cualquiera de los siguientes enlaces:\n",
        "- [Java String Methods](https://www.w3schools.com/java/java_ref_string.asp)\n",
        "- [Class String - Oracle](https://docs.oracle.com/javase/8/docs/api/java/lang/String.html)"
      ]
    },
    {
      "cell_type": "code",
      "execution_count": null,
      "metadata": {
        "vscode": {
          "languageId": "java"
        },
        "id": "8rXf6nFPlVIK",
        "outputId": "565be4ae-d422-418e-c275-d9c4627e41b1"
      },
      "outputs": [
        {
          "name": "stdout",
          "output_type": "stream",
          "text": [
            "     sebas.     \n",
            "sebas.\n",
            "     sebas.          sebas.          sebas.     \n",
            "false\n",
            "6\n"
          ]
        }
      ],
      "source": [
        "String long_name = \"     sebas.     \";\n",
        "System.out.println(long_name);\n",
        "System.out.println(long_name.trim());\n",
        "System.out.println(long_name.repeat(3));\n",
        "System.out.println(long_name.isEmpty());\n",
        "System.out.println(long_name.indexOf(\"e\"));\n",
        "// Prueba 5 métodos más de la clase String"
      ]
    },
    {
      "cell_type": "code",
      "execution_count": null,
      "metadata": {
        "colab": {
          "base_uri": "https://localhost:8080/"
        },
        "id": "jkiN9YYSqc9-",
        "outputId": "1f9294e4-44b0-40b2-dc4e-32ddb0187dd4",
        "vscode": {
          "languageId": "java"
        }
      },
      "outputs": [
        {
          "name": "stdout",
          "output_type": "stream",
          "text": [
            "true\n",
            "true\n",
            "false\n"
          ]
        }
      ],
      "source": [
        "// Comparing string or checking substrings\n",
        "String s1 = \"Welcome to Java\", s2 = \"Welcome to java\", s3 = \"Welcome to C++\";\n",
        "System.out.println(s1.contains(\"Java\"));\n",
        "System.out.println(s1.equalsIgnoreCase(s2)); // true\n",
        "System.out.println(s1.equals(s3)); // false"
      ]
    },
    {
      "cell_type": "markdown",
      "metadata": {
        "id": "H0D4DaC3lVIM"
      },
      "source": [
        "<div align=\"center\">\n",
        "  <img src=\"https://github.com/uETITC/DataStructure-2024-2/blob/main/Lessons/images/vector2.png?raw=1\" width=70%>\n",
        "</div>\n"
      ]
    },
    {
      "cell_type": "code",
      "execution_count": null,
      "metadata": {
        "vscode": {
          "languageId": "java"
        },
        "id": "n5rFzA2AlVIN",
        "outputId": "788d2dbb-f0d3-47be-96f3-26e2e7fd417c"
      },
      "outputs": [
        {
          "name": "stdout",
          "output_type": "stream",
          "text": [
            "Welcome to Java\n",
            "5\n",
            "10\n",
            "\n",
            "Welcome\n",
            "to Java\n"
          ]
        }
      ],
      "source": [
        "// Substring indexes\n",
        "String message = \"Welcome to Java\";\n",
        "String sub_message = message.substring(8) + \" HTML\";\n",
        "System.out.println(message);\n",
        "System.out.println(message.indexOf(\"me\"));\n",
        "System.out.println(message.lastIndexOf(\" \"));\n",
        "System.out.println();\n",
        "\n",
        "// Substring\n",
        "int k = message.indexOf(\" \");\n",
        "String firstName = message.substring(0, k);\n",
        "String lastName = message.substring(k + 1);\n",
        "System.out.println(firstName);\n",
        "System.out.println(lastName);"
      ]
    },
    {
      "cell_type": "markdown",
      "metadata": {
        "id": "j6-9jaOYlVIO"
      },
      "source": [
        "### <a id='toc1_3_1_'></a>[Busquedas](#toc0_)\n",
        "\n",
        "- **Búsqueda de Subcadenas:** Busca una subcadena dentro de una cadena más grande."
      ]
    },
    {
      "cell_type": "code",
      "execution_count": null,
      "metadata": {
        "vscode": {
          "languageId": "java"
        },
        "id": "dBmrwbULlVIP",
        "outputId": "6a869261-0878-48ba-a026-47d2ca7c602d"
      },
      "outputs": [
        {
          "data": {
            "text/plain": [
              "9"
            ]
          },
          "execution_count": 102,
          "metadata": {},
          "output_type": "execute_result"
        }
      ],
      "source": [
        "public static int buscarSubcadena(String cadena, String subcadena) {\n",
        "  return cadena.indexOf(subcadena); // Retorna el índice de la subcadena o -1 si no se encuentra\n",
        "}\n",
        "\n",
        "// Prueba el método"
      ]
    },
    {
      "cell_type": "markdown",
      "metadata": {
        "id": "j8yxKxM1lVIR"
      },
      "source": [
        "- **Recorrido de Caracteres:** Similar a la búsqueda lineal en arreglos, pero aplicado a cada carácter de una cadena."
      ]
    },
    {
      "cell_type": "code",
      "execution_count": null,
      "metadata": {
        "vscode": {
          "languageId": "java"
        },
        "id": "LgmhxEgklVIS"
      },
      "outputs": [],
      "source": [
        "public static boolean contieneCaracter(String cadena, char c) {\n",
        "  for (int i = 0; i < cadena.length(); i++) {\n",
        "      if (cadena.charAt(i) == c) {\n",
        "          return true;\n",
        "      }\n",
        "  }\n",
        "  return false;\n",
        "}\n",
        "\n",
        "// Prueba el método"
      ]
    },
    {
      "cell_type": "markdown",
      "metadata": {
        "id": "CwFMVqDulVIT"
      },
      "source": [
        "### <a id='toc1_3_2_'></a>[Aplicaciones](#toc0_)\n",
        "\n",
        "- **Procesamiento de Texto:** Las cadenas se utilizan para manipular y procesar texto, como en la construcción de mensajes, análisis de texto, o generación de informes.\n",
        "\n",
        "- **Almacenamiento de Datos:** Cadenas se utilizan en aplicaciones que requieren manipulación de texto, como bases de datos, procesadores de texto y lenguajes de programación.\n",
        "\n",
        "\n",
        "### <a id='toc1_3_3_'></a>[Ejemplo](#toc0_)"
      ]
    },
    {
      "cell_type": "code",
      "execution_count": null,
      "metadata": {
        "vscode": {
          "languageId": "java"
        },
        "id": "avlxSQFjlVIU",
        "outputId": "8eef82bf-5697-4588-e1de-a7b70d2c884e",
        "colab": {
          "base_uri": "https://localhost:8080/"
        }
      },
      "outputs": [
        {
          "output_type": "stream",
          "name": "stdout",
          "text": [
            "Enter the first city: bogota\n",
            "\n",
            "Enter the second city: cali\n",
            "\n",
            "The cities in alphabetical order are: bogota cali\n"
          ]
        }
      ],
      "source": [
        "import java.util.Scanner;\n",
        "\n",
        "public class OrderTwoCities {\n",
        "  public static void main(String[] args) {\n",
        "  Scanner input = new Scanner(System.in);\n",
        "\n",
        "  // Prompt the user to enter two cities\n",
        "  System.out.print(\"Enter the first city: \");\n",
        "  String city1 = input.nextLine();\n",
        "  System.out.print(\"\\nEnter the second city: \");\n",
        "  String city2 = input.nextLine();\n",
        "\n",
        "  if (city1.compareTo(city2) < 0){\n",
        "  System.out.println(\"\\nThe cities in alphabetical order are: \" + city1 + \" \" + city2);}\n",
        "  else{\n",
        "  System.out.println(\"\\nThe cities in alphabetical order are: \" + city2 + \" \" + city1);}\n",
        "  }\n",
        "}\n",
        "\n",
        "// Prueba la clase\n",
        "OrderTwoCities order = new OrderTwoCities();\n",
        "order.main(new String[]{\"Bogota\", \"call\"\n",
        "});"
      ]
    },
    {
      "cell_type": "markdown",
      "metadata": {
        "id": "vutmSB3VlVIV"
      },
      "source": [
        "Cambia la anterior clase para que las ciudades no sean ingresadas por el usuario si no que sean pasadas a al método utilizando el vector args"
      ]
    },
    {
      "cell_type": "code",
      "execution_count": null,
      "metadata": {
        "vscode": {
          "languageId": "java"
        },
        "id": "4iT14IQ0lVIW"
      },
      "outputs": [],
      "source": [
        "// Escribe el código aquí"
      ]
    },
    {
      "cell_type": "markdown",
      "metadata": {
        "id": "vrnFZavjlVIX"
      },
      "source": [
        "Puedes encontrar más información en el capítulo 4 del libro guia, Y. Daniel Liang."
      ]
    },
    {
      "cell_type": "markdown",
      "metadata": {
        "id": "wta4n0BrlVIY"
      },
      "source": [
        "## <a id='toc1_4_'></a>[Arreglos (Arrays)](#toc0_)\n",
        "\n",
        "Un arreglo es una estructura de datos que almacena elementos del mismo tipo en posiciones contiguas de memoria. Los arreglos permiten acceder a los elementos mediante un índice, comenzando desde 0.\n",
        "\n",
        "#### <a id='toc1_4_1_1_'></a>[Arreglos Unidimensionales](#toc0_)\n",
        "\n",
        "Un arreglo de una dimensión es una lista lineal de elementos. Se define siguiendo la estructura:\n",
        "\n",
        "```java\n",
        "elementType[] arrayRefVar = {content};\n",
        "```"
      ]
    },
    {
      "cell_type": "code",
      "execution_count": null,
      "metadata": {
        "vscode": {
          "languageId": "java"
        },
        "id": "m4yIP5hRlVIa",
        "outputId": "3387c6a1-ec96-4dd5-bffe-3f0f7662f904",
        "colab": {
          "base_uri": "https://localhost:8080/"
        }
      },
      "outputs": [
        {
          "output_type": "stream",
          "name": "stdout",
          "text": [
            "3\n",
            "[I@5f9a8449\n"
          ]
        }
      ],
      "source": [
        "// Declaración y inicialización de un arreglo de enteros\n",
        "int[] numeros = {1, 2, 3, 4, 5};\n",
        "\n",
        "// Acceso a elementos\n",
        "System.out.println(numeros[2]); // Imprime 3\n",
        "System .out.println(numeros);\n"
      ]
    },
    {
      "cell_type": "code",
      "execution_count": null,
      "metadata": {
        "vscode": {
          "languageId": "java"
        },
        "id": "YzTdSm3tlVIb",
        "outputId": "1958893e-bbc7-4bd0-fe9c-c33b8f748330",
        "colab": {
          "base_uri": "https://localhost:8080/"
        }
      },
      "outputs": [
        {
          "output_type": "stream",
          "name": "stdout",
          "text": [
            "2\n"
          ]
        }
      ],
      "source": [
        "// Declaración y inicialización de un arreglo de enteros\n",
        "String[] letras = {\"1\", \"2\", \"3\", \"4\", \"5\"};\n",
        "\n",
        "// Acceso a elementos\n",
        "System.out.println(letras[1]); // Imprime 2"
      ]
    },
    {
      "cell_type": "markdown",
      "metadata": {
        "id": "WsLsYeJKlVIc"
      },
      "source": [
        "<div align=\"center\">\n",
        "  <img src=\"https://github.com/uETITC/DataStructure-2024-2/blob/main/Lessons/images/vector3.png?raw=1\" width=70%>\n",
        "</div>"
      ]
    },
    {
      "cell_type": "code",
      "execution_count": null,
      "metadata": {
        "colab": {
          "base_uri": "https://localhost:8080/"
        },
        "id": "agVlpnPDxwXh",
        "outputId": "7d577104-baed-4faa-e466-d512d75ab088",
        "vscode": {
          "languageId": "java"
        }
      },
      "outputs": [
        {
          "output_type": "stream",
          "name": "stdout",
          "text": [
            "1.0\n"
          ]
        }
      ],
      "source": [
        "// Poblar una lista\n",
        "double[] myList = new double[10];\n",
        "myList[0] = 5.6;\n",
        "myList[1] = 4.5;\n",
        "myList[2] = 3.3;\n",
        "myList[3] = 13.2;\n",
        "myList[4] = Double.parseDouble(\"1\");\n",
        "myList[5] = 34.33;\n",
        "myList[6] = 34.0;\n",
        "myList[7] = 45.45;\n",
        "myList[8] = 99.993;\n",
        "myList[9] = 11123;\n",
        "//myList.getClass();\n",
        "System.out.println(myList[4]);"
      ]
    },
    {
      "cell_type": "markdown",
      "metadata": {
        "id": "984-9kbmlVIq"
      },
      "source": [
        "¿Se puede imprimir una lista completa usando la función `print`, es decir, funciona el siguiente comando?\n",
        "\n",
        "```java\n",
        "System.out.println(myList);\n",
        "```"
      ]
    },
    {
      "cell_type": "code",
      "execution_count": null,
      "metadata": {
        "colab": {
          "base_uri": "https://localhost:8080/"
        },
        "id": "kefKGS-t0Nl1",
        "outputId": "6ed811ff-a555-4e96-c05f-89d5e222e80f",
        "vscode": {
          "languageId": "java"
        }
      },
      "outputs": [
        {
          "name": "stdout",
          "output_type": "stream",
          "text": [
            "0.0\n",
            "1.0\n",
            "2.0\n",
            "3.0\n",
            "4.0\n",
            "5.0\n",
            "6.0\n",
            "7.0\n",
            "8.0\n",
            "9.0\n"
          ]
        }
      ],
      "source": [
        "double[] myList  = new double[10];\n",
        "for (int i = 0; i < myList.length; i++) {\n",
        "  myList[i] = i;\n",
        "  System.out.println(myList[i]);\n",
        "  }"
      ]
    },
    {
      "cell_type": "code",
      "execution_count": null,
      "metadata": {
        "vscode": {
          "languageId": "java"
        },
        "id": "irJk9eTllVIt",
        "outputId": "7150cc61-ed69-4d69-92f2-3826d189f704"
      },
      "outputs": [
        {
          "name": "stdout",
          "output_type": "stream",
          "text": [
            "Enter 10 values: "
          ]
        }
      ],
      "source": [
        "java.util.Scanner input = new java.util.Scanner(System.in);\n",
        "System.out.print(\"Enter \" + myList.length + \" values: \");\n",
        "for (int i = 0; i < myList.length; i++){\n",
        "  myList[i] = input.nextDouble();\n",
        "}"
      ]
    },
    {
      "cell_type": "markdown",
      "metadata": {
        "id": "XCuCoZjAlVIu"
      },
      "source": [
        "Implementa un método que imprima de forma \"bonita\" un vector"
      ]
    },
    {
      "cell_type": "code",
      "execution_count": null,
      "metadata": {
        "vscode": {
          "languageId": "java"
        },
        "id": "38tj-NcQlVIv",
        "colab": {
          "base_uri": "https://localhost:8080/"
        },
        "outputId": "f739a1f6-0249-4a47-d315-85b3c7265bb8"
      },
      "outputs": [
        {
          "output_type": "stream",
          "name": "stdout",
          "text": [
            "{5.6, 4.5, 3.3, 13.2, 1.0, 34.33, 34.0, 45.45, 99.993, 11123.0, }"
          ]
        }
      ],
      "source": [
        "// Agrega el código aquí\n",
        "public void Imprimir(double[] lista){\n",
        "  System.out.print(\"{\");\n",
        "  for(int i=0; i<lista.length; i++){\n",
        "    System.out.print(lista[i]+\", \");\n",
        "  }\n",
        "  System.out.print(\"}\");\n",
        "}\n",
        "\n",
        "Imprimir(myList);"
      ]
    },
    {
      "cell_type": "markdown",
      "metadata": {
        "id": "iu4YzJ4flVIw"
      },
      "source": [
        "### <a id='toc1_4_2_'></a>[Búsquedas](#toc0_)\n",
        "\n",
        "\n",
        "<center>\n",
        "<table>\n",
        "<tr>\n",
        "    <th>  Binary Search Algorithm in 100 Seconds </th>\n",
        "    <th>  Binary Search Animated  </th>\n",
        "</tr>\n",
        "<tr>\n",
        "<td>\n",
        "\n",
        "[![Binary Search Algorithm in 100 Seconds](https://img.youtube.com/vi/MFhxShGxHWc/hqdefault.jpg)](https://www.youtube.com/watch?v=MFhxShGxHWc)\n",
        "\n",
        "</td>\n",
        "<td>\n",
        "\n",
        "[![Interpreted vs Compiled](https://img.youtube.com/vi/eVuPCG5eIr4/hqdefault.jpg)](https://www.youtube.com/watch?v=eVuPCG5eIr4)\n",
        "\n",
        "</td>\n",
        "</tr>\n",
        "</table>\n",
        "</center>\n",
        "\n",
        "- **Búsqueda Lineal:** Se recorre el arreglo elemento por elemento hasta encontrar el valor deseado."
      ]
    },
    {
      "cell_type": "code",
      "execution_count": null,
      "metadata": {
        "vscode": {
          "languageId": "java"
        },
        "id": "SBbefm_NlVIy"
      },
      "outputs": [],
      "source": [
        "public static int busquedaLineal(int[] arreglo, int valor) {\n",
        "  for (int i = 0; i < arreglo.length; i++) {\n",
        "      if (arreglo[i] == valor) {\n",
        "          return i; // Retorna la posición del valor\n",
        "      }\n",
        "  }\n",
        "  return -1; // Si no se encuentra el valor\n",
        "}\n",
        "\n",
        "// Prueba la clase con un arreglo y buscando 3 elementos de esta"
      ]
    },
    {
      "cell_type": "markdown",
      "metadata": {
        "id": "QoRMAZ63lVIz"
      },
      "source": [
        "- **Búsqueda Binaria:** Requiere que el arreglo esté ordenado. Divide el arreglo en mitades para encontrar el valor de manera más eficiente.\n",
        "\n",
        "<div align=\"center\">\n",
        "  <img src=\"https://github.com/uETITC/DataStructure-2024-2/blob/main/Lessons/images/binarysearch.png?raw=1\" width=70%>\n",
        "</div>"
      ]
    },
    {
      "cell_type": "code",
      "execution_count": null,
      "metadata": {
        "vscode": {
          "languageId": "java"
        },
        "id": "56jpdSl5lVI1"
      },
      "outputs": [],
      "source": [
        "public static int busquedaBinaria(int[] arreglo, int valor) {\n",
        "  int inicio = 0;\n",
        "  int fin = arreglo.length - 1;\n",
        "\n",
        "  while (inicio <= fin) {\n",
        "      int medio = (inicio + fin) / 2;\n",
        "      if (arreglo[medio] == valor) {\n",
        "          return medio;\n",
        "      } else if (arreglo[medio] < valor) {\n",
        "          inicio = medio + 1;\n",
        "      } else {\n",
        "          fin = medio - 1;\n",
        "      }\n",
        "  }\n",
        "  return -1;\n",
        "}\n",
        "\n",
        "// Prueba la clase con un arreglo y buscando 3 elementos de esta"
      ]
    },
    {
      "cell_type": "markdown",
      "metadata": {
        "id": "WF_hJ9hLlVI3"
      },
      "source": [
        "### <a id='toc1_4_3_'></a>[Aplicaiones](#toc0_)\n",
        "\n",
        "- **Almacenamiento de Datos:** Los arreglos se utilizan comúnmente para almacenar listas de elementos, como números, nombres, o cualquier otro tipo de datos homogéneos.\n",
        "  \n",
        "- **Matrices en Matemáticas:** Los arreglos bidimensionales (matrices) se utilizan en aplicaciones matemáticas, tales como la resolución de sistemas de ecuaciones o transformaciones en gráficos.\n",
        "\n",
        "- **Tablas de Datos:** Las matrices también se usan para representar tablas de datos, como una hoja de cálculo.\n",
        "\n",
        "### <a id='toc1_4_4_'></a>[Ejemplo](#toc0_)"
      ]
    },
    {
      "cell_type": "code",
      "execution_count": null,
      "metadata": {
        "vscode": {
          "languageId": "java"
        },
        "id": "tw7OHCi_lVI4"
      },
      "outputs": [],
      "source": [
        "public class AnalyzeNumbers {\n",
        "  public static void main(String[] args) {\n",
        "    java.util.Scanner input = new java.util.Scanner(System.in);\n",
        "    System.out.print(\"Enter the number of items: \");\n",
        "    int n = input.nextInt();\n",
        "    double[] numbers = new double[n];\n",
        "    double sum = 0;\n",
        "\n",
        "    System.out.print(\"Enter the numbers: \");\n",
        "    for (int i = 0; i < n; i++) {\n",
        "      numbers[i] = input.nextDouble();\n",
        "      sum += numbers[i];\n",
        "    }\n",
        "\n",
        "    double average = sum / n;\n",
        "\n",
        "    int count = 0; // The numbers of elements above average\n",
        "    for (int i = 0; i < n; i++)\n",
        "      if (numbers[i] > average)\n",
        "        count++;\n",
        "\n",
        "    System.out.println(\"Average is \" + average);\n",
        "    System.out.println(\"Number of elements above the average is \"\n",
        "      + count);\n",
        "  }\n",
        "}\n",
        "\n",
        "// Prueba la clase: crea un objeto y llama el método main\n"
      ]
    },
    {
      "cell_type": "markdown",
      "metadata": {
        "id": "lKR76_47lVI5"
      },
      "source": [
        "## <a id='toc1_5_'></a>[Clases Predefinidas](#toc0_)\n",
        "\n",
        "### <a id='toc1_5_1_'></a>[Arrays](#toc0_)\n",
        "\n",
        "La clase `java.util.Arrays` contiene métodos útiles para operaciones comunes con matrices, como la ordenación y la búsqueda."
      ]
    },
    {
      "cell_type": "code",
      "execution_count": null,
      "metadata": {
        "vscode": {
          "languageId": "java"
        },
        "id": "P2evUgTElVI6"
      },
      "outputs": [],
      "source": [
        "// Sorting Arrays\n",
        "import java.util.Arrays;\n",
        "double[] numbers = {6.0, 4.4, 1.9, 2.9, 3.4, 3.5};\n",
        "\n",
        "Arrays.sort(numbers); // Sort the whole array\n",
        "Arrays.parallelSort(numbers); // Sort the whole array\n",
        "char[] chars = {'a', 'A', '4', 'F', 'D', 'P'};\n",
        "\n",
        "Arrays.sort(chars, 1, 3); // Sort part of the array\n",
        "Arrays.parallelSort(chars, 1, 3); // Sort part of the array"
      ]
    },
    {
      "cell_type": "code",
      "execution_count": null,
      "metadata": {
        "vscode": {
          "languageId": "java"
        },
        "id": "KOk4la5olVI8",
        "outputId": "5664cd52-1370-4996-e9a4-a2ec6b7b46ca"
      },
      "outputs": [
        {
          "name": "stdout",
          "output_type": "stream",
          "text": [
            "1. Index is 4\n",
            "2. Index is -6\n",
            "3. Index is 0\n",
            "4. Index is -4\n"
          ]
        }
      ],
      "source": [
        "// Searching in an Arrays\n",
        "int[] list = {2, 4, 7, 10, 11, 45, 50, 59, 60, 66, 69, 70, 79};\n",
        "System.out.println(\"1. Index is \" + Arrays.binarySearch(list, 11));\n",
        "System.out.println(\"2. Index is \" + Arrays.binarySearch(list, 12));\n",
        "\n",
        "char[] chars = {'a', 'c', 'g', 'x', 'y', 'z'};\n",
        "System.out.println(\"3. Index is \" + Arrays.binarySearch(chars, 'a'));\n",
        "System.out.println(\"4. Index is \" + Arrays.binarySearch(chars, 't'));"
      ]
    },
    {
      "cell_type": "code",
      "execution_count": null,
      "metadata": {
        "vscode": {
          "languageId": "java"
        },
        "id": "EzrgwGsKlVI-",
        "outputId": "63cc7285-fd43-48d7-c617-2c62811c4582",
        "colab": {
          "base_uri": "https://localhost:8080/"
        }
      },
      "outputs": [
        {
          "output_type": "stream",
          "name": "stdout",
          "text": [
            "true\n",
            "false\n"
          ]
        }
      ],
      "source": [
        "// Comparing Arrays\n",
        "int[] list1 = {2, 4, 7, 10};\n",
        "int[] list2 = {2, 4, 7, 10};\n",
        "int[] list3 = {4, 2, 7, 10};\n",
        "System.out.println(java.util.Arrays.equals(list1, list2)); // true\n",
        "System.out.println(java.util.Arrays.equals(list2, list3)); // false"
      ]
    },
    {
      "cell_type": "code",
      "execution_count": null,
      "metadata": {
        "vscode": {
          "languageId": "java"
        },
        "id": "cpV3KqaUlVI_"
      },
      "outputs": [],
      "source": [
        "// Filling Arrays\n",
        "int[] list1 = {2, 4, 7, 10};\n",
        "int[] list2 = {2, 4, 7, 7, 7, 10};\n",
        "java.util.Arrays.fill(list1, 5); // Fill 5 to the whole array\n",
        "java.util.Arrays.fill(list2, 1, 5, 8); // Fill 8 to a partial array"
      ]
    },
    {
      "cell_type": "markdown",
      "metadata": {
        "id": "JS5HfdRrlVJA"
      },
      "source": [
        "Para mayor información revisa la clase de java [Arrays.java](https://github.com/openjdk/jdk/blob/master/src/java.base/share/classes/java/util/Arrays.java).\n",
        "\n",
        "### <a id='toc1_5_2_'></a>[ArrayList](#toc0_)\n",
        "\n",
        "Un ArrayList se utiliza para representar una lista dinámica. Mientras que la clase Array de Java crea vectores de tamaño fijo (el tamaño no se puede modificar), una ArrayList permite flexibilidad al poder añadir y eliminar elementos.\n",
        "\n",
        "En su comportamiento la clase ArrayList es muy similar a la clase Array. Para mayor información revisa la clase de java [ArrayList.java](https://github.com/openjdk/jdk/blob/master/src/java.base/share/classes/java/util/ArrayList.java).\n"
      ]
    },
    {
      "cell_type": "markdown",
      "metadata": {
        "id": "YFlqnvyvlVJB"
      },
      "source": [
        "## <a id='toc1_6_'></a>[Conclusión](#toc0_)\n",
        "\n",
        "En esta clase, los estudiantes han aprendido sobre la estructura y manipulación de arreglos y cadenas en Java, tanto en una como en varias dimensiones. Estos conceptos son fundamentales para la programación en Java, ya que permiten organizar y procesar grandes cantidades de datos de manera eficiente. A través de aplicaciones prácticas y algoritmos de búsqueda, los estudiantes han adquirido las habilidades necesarias para aplicar estos conceptos en la resolución de problemas reales.\n",
        "\n",
        "## <a id='toc1_7_'></a>[Ejercicio Práctico](#toc0_)\n",
        "\n",
        "Elige un tema de tu interés, como una película, un deporte, un videojuego, una banda musical, etc. Con base en ese tema, desarrollarás un programa en Java que utilice arreglos y cadenas unidimensionales para realizar una tarea relacionada.\n",
        "\n",
        "### <a id='toc1_7_1_'></a>[Instrucciones](#toc0_)\n",
        "\n",
        "1. **Definición del Tema:**\n",
        "   - Escoge un tema que te apasione o te interese. Por ejemplo, si te gusta el cine, podrías trabajar con una lista de tus películas favoritas; si prefieres los deportes, podrías utilizar los nombres de los equipos de fútbol o los jugadores.\n",
        "\n",
        "2. **Diseño del Programa:**\n",
        "   - **Arreglo de Cadenas:** Crea un arreglo unidimensional para almacenar una lista de nombres relacionados con tu tema (por ejemplo, títulos de películas, nombres de jugadores, etc.).\n",
        "   - **Arreglo de Enteros:** Si es relevante para tu tema, crea un segundo arreglo para almacenar números asociados a cada elemento del primer arreglo (por ejemplo, el año de lanzamiento de cada película o las puntuaciones de los jugadores).\n",
        "   \n",
        "      Si requieres crear más arreglos o variables eres libre de agregar el código que deseas y creas pertinente.\n",
        "\n",
        "3. **Funcionalidades del Programa:**\n",
        "   - **Buscar en el Arreglo:** Implementa un método que permita buscar un elemento en el arreglo de cadenas y muestre información relacionada (por ejemplo, buscar una película por nombre y mostrar su año de lanzamiento).\n",
        "   - **Agregar y Eliminar Elementos:** Crea funcionalidades que permitan al usuario agregar nuevos elementos al arreglo o eliminar elementos existentes.\n",
        "   - **Mostrar el Contenido:** Implementa un método para mostrar todos los elementos del arreglo y su información asociada.\n",
        "\n",
        "4. **Desarrollo del Código:**\n",
        "   - Escribe el código en Java para implementar las funcionalidades descritas. Asegúrate de manejar correctamente los índices y las posibles excepciones (como intentar acceder a un índice fuera de los límites del arreglo).\n",
        "\n",
        "5. **Prueba del Programa:**\n",
        "   - Prueba el programa con diferentes entradas para asegurarte de que todas las funcionalidades funcionan correctamente.\n",
        "\n",
        "**Entregables:**\n",
        "- Código fuente en Java (o notebook) que implemente el ejercicio de acuerdo con el tema elegido.\n",
        "- Un documento breve que describa el tema seleccionado, las funcionalidades implementadas, y cómo el programa maneja los datos. Esto se puede hacer en el notebook fácilmente o comentando los códigos.\n",
        "\n",
        "Este ejercicio permite que cada estudiante trabaje en un tema que le interese, lo que fomenta la motivación y el aprendizaje activo mientras desarrollan habilidades en el manejo de arreglos y cadenas en Java.\n",
        "\n",
        "Pueden trabajar en grupo pero **NO** deben tener el mismo tema, como todos tenemos gustos diferentes todos tendremos códigos diferentes.\n"
      ]
    },
    {
      "cell_type": "code",
      "source": [
        "import java.util.ArrayList;\n",
        "import java.util.Scanner;\n",
        "\n",
        "public class MotosDeportivas {\n",
        "\n",
        "    public ArrayList<String> nombresMotos;\n",
        "    public ArrayList<Integer> cilindrajes;\n",
        "\n",
        "    public MotosDeportivas() {\n",
        "        nombresMotos = new ArrayList<>();\n",
        "        cilindrajes = new ArrayList<>();\n",
        "\n",
        "        nombresMotos.add(\"BMW M1000RR\");\n",
        "        cilindrajes.add(998);\n",
        "        nombresMotos.add(\"Ducati Paligale V4\");\n",
        "        cilindrajes.add(998);\n",
        "        nombresMotos.add(\"Kawasaki Ninja ZX-10R\");\n",
        "        cilindrajes.add(999);\n",
        "        nombresMotos.add(\"Suzuki GSX-R1000\");\n",
        "        cilindrajes.add(999);\n",
        "        nombresMotos.add(\"YAMAHA R1M\");\n",
        "        cilindrajes.add(1103);\n",
        "    }\n",
        "\n",
        "    public void buscarMoto(String nombre) {\n",
        "        int index = nombresMotos.indexOf(nombre);\n",
        "        if (index != -1) {\n",
        "            System.out.println(nombre + \" - Cilindraje: \" + cilindrajes.get(index) + \" cc\");\n",
        "        } else {\n",
        "            System.out.println(\"Moto no encontrada.\");\n",
        "        }\n",
        "    }\n",
        "\n",
        "    public void agregarMoto(String nombre, int cilindraje) {\n",
        "        nombresMotos.add(nombre);\n",
        "        cilindrajes.add(cilindraje);\n",
        "        System.out.println(\"Moto agregada: \" + nombre + \" con cilindraje \" + cilindraje + \" cc\");\n",
        "    }\n",
        "\n",
        "    public void eliminarMoto(String nombre) {\n",
        "        int index = nombresMotos.indexOf(nombre);\n",
        "        if (index != -1) {\n",
        "            nombresMotos.remove(index);\n",
        "            cilindrajes.remove(index);\n",
        "            System.out.println(\"Moto eliminada: \" + nombre);\n",
        "        } else {\n",
        "            System.out.println(\"Moto no encontrada.\");\n",
        "        }\n",
        "    }\n",
        "\n",
        "    public void mostrarContenido() {\n",
        "        if (nombresMotos.isEmpty()) {\n",
        "            System.out.println(\"No hay motos en el registro.\");\n",
        "        } else {\n",
        "            for (int i = 0; i < nombresMotos.size(); i++) {\n",
        "                System.out.println(nombresMotos.get(i) + \" - Cilindraje: \" + cilindrajes.get(i) + \" cc\");\n",
        "            }\n",
        "        }\n",
        "    }\n",
        "\n",
        "    public static void main(String[] args) {\n",
        "        MotosDeportivas programa = new MotosDeportivas();\n",
        "        Scanner scanner = new Scanner(System.in);\n",
        "        boolean salir = false;\n",
        "\n",
        "        while (!salir) {\n",
        "            System.out.println(\"\\nMenú:\");\n",
        "            System.out.println(\"1. Buscar moto\");\n",
        "            System.out.println(\"2. Agregar moto\");\n",
        "            System.out.println(\"3. Eliminar moto\");\n",
        "            System.out.println(\"4. Mostrar todas las motos\");\n",
        "            System.out.println(\"5. Salir\");\n",
        "            System.out.print(\"Elija una opción: \");\n",
        "\n",
        "            int opcion = scanner.nextInt();\n",
        "            scanner.nextLine(); // Consumir el salto de línea\n",
        "\n",
        "            switch (opcion) {\n",
        "                case 1:\n",
        "                    System.out.print(\"Ingrese el nombre de la moto a buscar: \");\n",
        "                    String nombreBuscar = scanner.nextLine();\n",
        "                    programa.buscarMoto(nombreBuscar);\n",
        "                    break;\n",
        "\n",
        "                case 2:\n",
        "                    System.out.print(\"Ingrese el nombre de la moto a agregar: \");\n",
        "                    String nombreAgregar = scanner.nextLine();\n",
        "                    System.out.print(\"Ingrese el cilindraje de la moto: \");\n",
        "                    int cilindrajeAgregar = scanner.nextInt();\n",
        "                    scanner.nextLine(); // Consumir el salto de línea\n",
        "                    programa.agregarMoto(nombreAgregar, cilindrajeAgregar);\n",
        "                    break;\n",
        "\n",
        "                case 3:\n",
        "                    System.out.print(\"Ingrese el nombre de la moto a eliminar: \");\n",
        "                    String nombreEliminar = scanner.nextLine();\n",
        "                    programa.eliminarMoto(nombreEliminar);\n",
        "                    break;\n",
        "\n",
        "                case 4:\n",
        "                    programa.mostrarContenido();\n",
        "                    break;\n",
        "\n",
        "                case 5:\n",
        "                    salir = true;\n",
        "                    System.out.println(\"Saliendo del programa...\");\n",
        "                    break;\n",
        "\n",
        "                default:\n",
        "                    System.out.println(\"Opción no válida. Inténtelo de nuevo.\");\n",
        "                    break;\n",
        "            }\n",
        "        }\n",
        "\n",
        "        scanner.close();\n",
        "    }\n",
        "    }\n",
        "    MotosDeportivas programa = new MotosDeportivas();\n",
        "        MotosDeportivas.main(new String[] {});\n",
        "\n",
        "\n",
        "\n"
      ],
      "metadata": {
        "colab": {
          "base_uri": "https://localhost:8080/"
        },
        "id": "9vl1NQ7mc1V1",
        "outputId": "9a3e1adc-d405-4739-9468-ec690f797bd2"
      },
      "execution_count": 18,
      "outputs": [
        {
          "output_type": "stream",
          "name": "stdout",
          "text": [
            "\n",
            "Menú:\n",
            "1. Buscar moto\n",
            "2. Agregar moto\n",
            "3. Eliminar moto\n",
            "4. Mostrar todas las motos\n",
            "5. Salir\n",
            "Elija una opción: 4\n",
            "BMW M1000RR - Cilindraje: 998 cc\n",
            "Ducati Paligale V4 - Cilindraje: 998 cc\n",
            "Kawasaki Ninja ZX-10R - Cilindraje: 999 cc\n",
            "Suzuki GSX-R1000 - Cilindraje: 999 cc\n",
            "YAMAHA R1M - Cilindraje: 1103 cc\n",
            "\n",
            "Menú:\n",
            "1. Buscar moto\n",
            "2. Agregar moto\n",
            "3. Eliminar moto\n",
            "4. Mostrar todas las motos\n",
            "5. Salir\n",
            "Elija una opción: 1\n",
            "Ingrese el nombre de la moto a buscar: BMW M1000RR\n",
            "BMW M1000RR - Cilindraje: 998 cc\n",
            "\n",
            "Menú:\n",
            "1. Buscar moto\n",
            "2. Agregar moto\n",
            "3. Eliminar moto\n",
            "4. Mostrar todas las motos\n",
            "5. Salir\n",
            "Elija una opción: 2\n",
            "Ingrese el nombre de la moto a agregar: CFMOTO 450\n",
            "Ingrese el cilindraje de la moto: 450\n",
            "Moto agregada: CFMOTO 450 con cilindraje 450 cc\n",
            "\n",
            "Menú:\n",
            "1. Buscar moto\n",
            "2. Agregar moto\n",
            "3. Eliminar moto\n",
            "4. Mostrar todas las motos\n",
            "5. Salir\n",
            "Elija una opción: 4\n",
            "BMW M1000RR - Cilindraje: 998 cc\n",
            "Ducati Paligale V4 - Cilindraje: 998 cc\n",
            "Kawasaki Ninja ZX-10R - Cilindraje: 999 cc\n",
            "Suzuki GSX-R1000 - Cilindraje: 999 cc\n",
            "YAMAHA R1M - Cilindraje: 1103 cc\n",
            "CFMOTO 450 - Cilindraje: 450 cc\n",
            "\n",
            "Menú:\n",
            "1. Buscar moto\n",
            "2. Agregar moto\n",
            "3. Eliminar moto\n",
            "4. Mostrar todas las motos\n",
            "5. Salir\n",
            "Elija una opción: 3\n",
            "Ingrese el nombre de la moto a eliminar: CFMOTO 450\n",
            "Moto eliminada: CFMOTO 450\n",
            "\n",
            "Menú:\n",
            "1. Buscar moto\n",
            "2. Agregar moto\n",
            "3. Eliminar moto\n",
            "4. Mostrar todas las motos\n",
            "5. Salir\n",
            "Elija una opción: 4\n",
            "BMW M1000RR - Cilindraje: 998 cc\n",
            "Ducati Paligale V4 - Cilindraje: 998 cc\n",
            "Kawasaki Ninja ZX-10R - Cilindraje: 999 cc\n",
            "Suzuki GSX-R1000 - Cilindraje: 999 cc\n",
            "YAMAHA R1M - Cilindraje: 1103 cc\n",
            "\n",
            "Menú:\n",
            "1. Buscar moto\n",
            "2. Agregar moto\n",
            "3. Eliminar moto\n",
            "4. Mostrar todas las motos\n",
            "5. Salir\n",
            "Elija una opción: 5\n",
            "Saliendo del programa...\n"
          ]
        }
      ]
    },
    {
      "cell_type": "markdown",
      "source": [
        "**Explicación del Código**\n",
        "1. **Inicialización**: El constructor MotosDeportivas inicializa los ArrayList con algunas motos y sus cilindrajes para probar el programa.\n",
        "\n",
        "2. **Método buscarMoto:** Busca una moto por su nombre y muestra el cilindraje asociado si se encuentra.\n",
        "\n",
        "3. **Método agregarMoto:** Añade una nueva moto y su cilindraje a los ArrayList.\n",
        "Método eliminarMoto: Elimina una moto y su cilindraje basado en el nombre proporcionado.\n",
        "\n",
        "4. **Método mostrarContenido:** Muestra todos los nombres de motos y sus cilindrajes.\n",
        "\n",
        "5. **Menú principal:** es un menú interactivo que permite al usuario buscar, agregar, eliminar y mostrar motos.\n",
        "\n",
        "6. Se realiza el llamado del main, para que funcione el codigo."
      ],
      "metadata": {
        "id": "2gtjly4hrunP"
      }
    },
    {
      "cell_type": "markdown",
      "source": [
        "prueba"
      ],
      "metadata": {
        "id": "OJ6QGysesmXx"
      }
    },
    {
      "cell_type": "code",
      "source": [
        "import java.util.ArrayList;\n",
        "\n",
        "        ArrayList<String> motos_Deportivas = new ArrayList<>();\n",
        "        ArrayList<Integer> cilindradas = new ArrayList<>();\n",
        "\n",
        "        motos_Deportivas.add(\"BMW M1000RR\");\n",
        "        motos_Deportivas.add(\"Ducati Paligale V4\");\n",
        "        motos_Deportivas.add(\"Kawasaki Ninja ZX-10R\");\n",
        "        motos_Deportivas.add(\"Suzuki GSX-R1000\");\n",
        "        motos_Deportivas.add(\"YAMAHA R1M\");\n",
        "\n",
        "        // Añadir cilindradas correspondientes a cada moto\n",
        "        cilindradas.add(1100);   // BMW M1000RR//\n",
        "        cilindradas.add(1103);  // Ducati Panigale V4//\n",
        "        cilindradas.add(998);   // Kawasaki Ninja ZX-10R//\n",
        "        cilindradas.add(996);   // Suzuki GSX-R1000//\n",
        "        cilindradas.add(999);   // Yamaha R1M//\n",
        "\n",
        "        System.out.println(\"Lista de motos Deportivas:\");\n",
        "        for (String moto : motos_Deportivas) {\n",
        "            System.out.println(moto);\n",
        "        }\n",
        "        System.out.println(\"\\nLista de Cilindraje de motos:\");\n",
        "        for (int cilindrada : cilindradas) {\n",
        "            System.out.println(cilindrada);\n",
        "        }\n",
        "        public static void Imprimir(ArrayList<String> motos_Deportivas){\n",
        "            System.out.print(\"{\");\n",
        "            for(int i=0; i<motos_Deportivas.size(); i++){\n",
        "              System.out.print(motos_Deportivas.get(i)+\", \");\n",
        "            }\n",
        "            System.out.print(\"}\");\n",
        "\n",
        "        }\n",
        "\n",
        "     //eliminar un elemento de la lista\n",
        "        motos_Deportivas.remove(\"Suzuki GSX-R1000\");\n",
        "        Imprimir(motos_Deportivas);\n",
        "\n",
        ""
      ],
      "metadata": {
        "colab": {
          "base_uri": "https://localhost:8080/"
        },
        "id": "p6WrEEKaslhb",
        "outputId": "5a2c9c6f-e8bb-4306-873d-5b3a72d1a7f3"
      },
      "execution_count": 28,
      "outputs": [
        {
          "output_type": "stream",
          "name": "stdout",
          "text": [
            "Lista de motos Deportivas:\n",
            "BMW M1000RR\n",
            "Ducati Paligale V4\n",
            "Kawasaki Ninja ZX-10R\n",
            "Suzuki GSX-R1000\n",
            "YAMAHA R1M\n",
            "\n",
            "Lista de Cilindraje de motos:\n",
            "1100\n",
            "1103\n",
            "998\n",
            "996\n",
            "999\n",
            "{BMW M1000RR, Ducati Paligale V4, Kawasaki Ninja ZX-10R, YAMAHA R1M, }"
          ]
        }
      ]
    },
    {
      "cell_type": "markdown",
      "metadata": {
        "id": "ppHYyiQIlVJE"
      },
      "source": [
        "**(Opcional)** Resolver alguno de los siguientes problemas utilizando clases, métodos, arreglos, cadenas, etc.\n",
        "\n",
        "- [rotate-string](https://www.codeabbey.com/index/task_view/rotate-string)\n",
        "- [palindromes](https://www.codeabbey.com/index/task_view/palindromes)\n",
        "- [reverse-string](https://www.codeabbey.com/index/task_view/reverse-string)"
      ]
    },
    {
      "cell_type": "code",
      "execution_count": null,
      "metadata": {
        "vscode": {
          "languageId": "java"
        },
        "id": "2sx-4Y4zlVJG"
      },
      "outputs": [],
      "source": [
        "// Agrega aquí el código"
      ]
    },
    {
      "cell_type": "markdown",
      "metadata": {
        "id": "BmQ8ae5blVJH"
      },
      "source": [
        "## <a id='toc1_8_'></a>[Referencias](#toc0_)\n",
        "\n",
        "#### <a id='toc1_8_1_1_'></a>[Libros](#toc0_)\n",
        "\n",
        "- Y. Daniel Liang. *\"Introduction to Java Programming and Data Structures, Comprehensive Version\"*. Addison Wesley. Edición 12 (2019). Capítulo 4 y 7.\n",
        "- Koffman, Elliot B.; Wolfgang, Paul A. T.\"*Data structures : abstraction and design using Java\"*. Wiley. Tercera edición (2016).\n",
        "- James T. Streib,Takako Soma. *\"Guide to Data Structures: A Concise Introduction Using Java\"*. Springer International Publishing. Primera edición (2017).\n",
        "\n",
        "#### <a id='toc1_8_1_2_'></a>[Repositorios](#toc0_)\n",
        "\n",
        "- [Intro-to-Java-Programming](https://github.com/jsquared21/Intro-to-Java-Programming)\n",
        "\n",
        "\n",
        "#### <a id='toc1_8_1_3_'></a>[Videos](#toc0_)\n",
        "\n",
        "- [Array vs. ArrayList in Java Tutorial - What's The Difference? ](https://www.youtube.com/watch?v=NbYgm0r7u6o)\n",
        "- [Java para principiantes - Arreglos de string (String Arrays) ](https://www.youtube.com/watch?v=e4rqilsZRlU)\n",
        "- [Java array of objects 🍱   ](https://www.youtube.com/watch?v=nhIB2S6NiFA)\n",
        "   [41. Programación en Java || Arreglos || Definición de Arreglos ](https://www.youtube.com/watch?v=AZc3hxMxl54)"
      ]
    }
  ],
  "metadata": {
    "colab": {
      "provenance": []
    },
    "kernelspec": {
      "display_name": "Java",
      "name": "java"
    }
  },
  "nbformat": 4,
  "nbformat_minor": 0
}